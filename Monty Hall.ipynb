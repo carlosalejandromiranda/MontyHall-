{
 "cells": [
  {
   "cell_type": "code",
   "execution_count": 4,
   "metadata": {},
   "outputs": [],
   "source": [
    "import numpy as np"
   ]
  },
  {
   "cell_type": "code",
   "execution_count": 5,
   "metadata": {},
   "outputs": [
    {
     "ename": "SyntaxError",
     "evalue": "invalid syntax (2658885985.py, line 15)",
     "output_type": "error",
     "traceback": [
      "\u001b[0;36m  Input \u001b[0;32mIn [5]\u001b[0;36m\u001b[0m\n\u001b[0;31m    car_pos =\u001b[0m\n\u001b[0m              ^\u001b[0m\n\u001b[0;31mSyntaxError\u001b[0m\u001b[0;31m:\u001b[0m invalid syntax\n"
     ]
    }
   ],
   "source": [
    "N = 1000 # Cantidad de simulaciones\n",
    "\n",
    "no_change = 0 # Cantidad de veces que me llevo el auto sin cambiar de puerta\n",
    "change = 0 # Cantidad de veces que me llevo el auto cambiando de puerta\n",
    "rand_sel = 0 # Cantidad de veces que me llevo el auto eligiendo al azar entre las dos puertas restantes\n",
    "\n",
    "\n",
    "# Hits acumulados\n",
    "change_acum = [] \n",
    "no_change_acum = []\n",
    "rand_sel_acum = []\n",
    "\n",
    "for i in range(N):\n",
    "  # Ubicación del auto (una de las 3 puertas al azar)\n",
    "  car_pos = \n",
    "  # Selecciono una puerta al azar\n",
    "  selected_door = \n",
    "  doors = [0,1,2] # Lista con las 3 opciones de puertas\n",
    "  doors.remove( COMPLETAR ) # Me quedo con las dos puertas que no elegí\n",
    "  if selected_door == car_pos:\n",
    "    # No cambio de puerta y era la puerta donde estaba el auto, sumo uno a la variable correspondiente\n",
    "    # COMPLETAR\n",
    "    # Abro cualquiera de las dos puertas restantes. Elijo una de los dos restantes al azar\n",
    "    # COMPLETAR\n",
    "  else:\n",
    "    # Remuevo la puerta que tiene el auto. No la puedo abrir\n",
    "    # COMPLETAR\n",
    "    # Solo me me queda una puerta para abrir\n",
    "    door_to_open = doors[0]\n",
    "  \n",
    "  selected_door_change = [0, 1, 2] # Inicialmente contiene las 3 puertas pero me tengo que quedar con la puerta que elijo si cambio\n",
    "  # Remuevo la que abrio y me quedo con las dos posibles\n",
    "  # COMPLETAR\n",
    "  \n",
    "  if selected_door_change[np.random.randint(2)] == car_pos:\n",
    "    # Elijo al azar entre las dos puertas restantes y coincide con el auto. Sumo uno a la variable correspondiente\n",
    "    # COMPLETAR\n",
    "\n",
    "  # Remuevo la que elegi primero ya que ahora cambié (cambio de puerta)\n",
    "  # COMPLETAR\n",
    "\n",
    "  if selected_door_change[0] == car_pos:\n",
    "    # Si coinciden la que elegí cambiando con la del auto. Sumo uno a la variable correspondiente\n",
    "    # COMPLETAR\n",
    "  change_acum.append(change)\n",
    "  no_change_acum.append(no_change)\n",
    "  rand_sel_acum.append(rand_sel)"
   ]
  },
  {
   "cell_type": "code",
   "execution_count": null,
   "metadata": {},
   "outputs": [],
   "source": [
    "no_change, change, rand_sel"
   ]
  },
  {
   "cell_type": "code",
   "execution_count": 6,
   "metadata": {},
   "outputs": [],
   "source": [
    "from matplotlib import pyplot as plt"
   ]
  },
  {
   "cell_type": "code",
   "execution_count": 7,
   "metadata": {},
   "outputs": [
    {
     "ename": "NameError",
     "evalue": "name 'no_change_acum' is not defined",
     "output_type": "error",
     "traceback": [
      "\u001b[0;31m---------------------------------------------------------------------------\u001b[0m",
      "\u001b[0;31mNameError\u001b[0m                                 Traceback (most recent call last)",
      "\u001b[1;32mUntitled-1.ipynb Cell 5\u001b[0m in \u001b[0;36m<cell line: 2>\u001b[0;34m()\u001b[0m\n\u001b[1;32m      <a href='vscode-notebook-cell:Untitled-1.ipynb?jupyter-notebook#W4sdW50aXRsZWQ%3D?line=0'>1</a>\u001b[0m plt\u001b[39m.\u001b[39mfigure(figsize\u001b[39m=\u001b[39m(\u001b[39m16\u001b[39m,\u001b[39m8\u001b[39m))\n\u001b[0;32m----> <a href='vscode-notebook-cell:Untitled-1.ipynb?jupyter-notebook#W4sdW50aXRsZWQ%3D?line=1'>2</a>\u001b[0m plt\u001b[39m.\u001b[39mplot(no_change_acum, label\u001b[39m=\u001b[39m\u001b[39m'\u001b[39m\u001b[39mNo cambio\u001b[39m\u001b[39m'\u001b[39m)\n\u001b[1;32m      <a href='vscode-notebook-cell:Untitled-1.ipynb?jupyter-notebook#W4sdW50aXRsZWQ%3D?line=2'>3</a>\u001b[0m plt\u001b[39m.\u001b[39mplot(change_acum, label\u001b[39m=\u001b[39m\u001b[39m'\u001b[39m\u001b[39mCambio\u001b[39m\u001b[39m'\u001b[39m)\n\u001b[1;32m      <a href='vscode-notebook-cell:Untitled-1.ipynb?jupyter-notebook#W4sdW50aXRsZWQ%3D?line=3'>4</a>\u001b[0m plt\u001b[39m.\u001b[39mplot(rand_sel_acum, label\u001b[39m=\u001b[39m\u001b[39m'\u001b[39m\u001b[39mAl azar\u001b[39m\u001b[39m'\u001b[39m)\n",
      "\u001b[0;31mNameError\u001b[0m: name 'no_change_acum' is not defined"
     ]
    },
    {
     "data": {
      "text/plain": [
       "<Figure size 1152x576 with 0 Axes>"
      ]
     },
     "metadata": {},
     "output_type": "display_data"
    }
   ],
   "source": [
    "plt.figure(figsize=(16,8))\n",
    "plt.plot(no_change_acum, label='No cambio')\n",
    "plt.plot(change_acum, label='Cambio')\n",
    "plt.plot(rand_sel_acum, label='Al azar')\n",
    "plt.xlabel('Iteración')\n",
    "plt.ylabel('hits')\n",
    "plt.legend()\n",
    "plt.show()"
   ]
  },
  {
   "cell_type": "code",
   "execution_count": null,
   "metadata": {},
   "outputs": [],
   "source": []
  }
 ],
 "metadata": {
  "kernelspec": {
   "display_name": "Python 3.9.12 ('base')",
   "language": "python",
   "name": "python3"
  },
  "language_info": {
   "codemirror_mode": {
    "name": "ipython",
    "version": 3
   },
   "file_extension": ".py",
   "mimetype": "text/x-python",
   "name": "python",
   "nbconvert_exporter": "python",
   "pygments_lexer": "ipython3",
   "version": "3.9.12"
  },
  "orig_nbformat": 4,
  "vscode": {
   "interpreter": {
    "hash": "edb1d43d066cfb5e4fd795479f7aff37f61fec3a027ec47de2940e950d845ca1"
   }
  }
 },
 "nbformat": 4,
 "nbformat_minor": 2
}
